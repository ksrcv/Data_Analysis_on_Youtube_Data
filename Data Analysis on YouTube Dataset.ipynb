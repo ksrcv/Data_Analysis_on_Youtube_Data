{
 "cells": [
  {
   "cell_type": "markdown",
   "id": "0948bf6e",
   "metadata": {},
   "source": [
    "# Exploratory Data Analysis on YouTube data."
   ]
  },
  {
   "cell_type": "markdown",
   "id": "f0163f9b",
   "metadata": {},
   "source": [
    "**Domain:** Social media\n",
    "\n",
    "**Data Description:**\n",
    "\n",
    "**YouTube Dislikes Dataset:**\n",
    "\n",
    "● This dataset contains information about trending YouTube videos from August 2020 to December 2021 for the USA, Canada, and Great Britain.\n",
    "\n",
    "● This dataset contains the latest possible information about dislikes,likes,views and more which was collected just before December 13. The information was collected by videos that had been trending in the USA, Canada, and Great Britain for a year prior.\n",
    "\n",
    "● **Dataset link:** https://www.kaggle.com/datasets/dmitrynikolaev/youtube-dislikes-dataset"
   ]
  },
  {
   "cell_type": "markdown",
   "id": "455fca3f",
   "metadata": {},
   "source": [
    "**Attribute Information:**\n",
    "\n",
    "**SL.No Column Name Description**\n",
    "\n",
    "**1. Video ID**      : Unique video id.\n",
    "\n",
    "**2. Title**         : Video title.\n",
    "\n",
    "**3. Channel ID**    : Id of the channel.\n",
    "\n",
    "**4. Channel Title** : Title of the channel.\n",
    "\n",
    "**5. Published at**  : Video publication date.\n",
    "\n",
    "**6. View count**    : Number of views.\n",
    "\n",
    "**7. Likes**         : Number of likes.\n",
    "\n",
    "**8. Dislikes**      : Number of dislikes.\n",
    "\n",
    "**9. Comment Count** : Number of comments.\n",
    "\n",
    "**10. Tags**         : Tags (in one string).\n",
    "\n",
    "**11. Description**  : Video description.\n",
    "\n",
    "**12. Comments**     : 20 Video comments (in one string)"
   ]
  },
  {
   "cell_type": "markdown",
   "id": "a039af20",
   "metadata": {},
   "source": [
    "## Importing the required libraries"
   ]
  },
  {
   "cell_type": "code",
   "execution_count": 34,
   "id": "db4b436f",
   "metadata": {},
   "outputs": [],
   "source": [
    "import pandas as pd\n",
    "import numpy as np\n",
    "import seaborn as sns\n",
    "import matplotlib.pyplot as plt\n",
    "import warnings\n",
    "warnings.filterwarnings('ignore')"
   ]
  },
  {
   "cell_type": "code",
   "execution_count": 35,
   "id": "ecc9e7b5",
   "metadata": {},
   "outputs": [],
   "source": [
    "pd.set_option('display.float_format', lambda x: '%.2f' % x)"
   ]
  },
  {
   "cell_type": "markdown",
   "id": "57137de9",
   "metadata": {},
   "source": [
    "**Top 5 records**"
   ]
  },
  {
   "cell_type": "code",
   "execution_count": 36,
   "id": "9a048b98",
   "metadata": {
    "scrolled": true
   },
   "outputs": [
    {
     "data": {
      "text/html": [
       "<div>\n",
       "<style scoped>\n",
       "    .dataframe tbody tr th:only-of-type {\n",
       "        vertical-align: middle;\n",
       "    }\n",
       "\n",
       "    .dataframe tbody tr th {\n",
       "        vertical-align: top;\n",
       "    }\n",
       "\n",
       "    .dataframe thead th {\n",
       "        text-align: right;\n",
       "    }\n",
       "</style>\n",
       "<table border=\"1\" class=\"dataframe\">\n",
       "  <thead>\n",
       "    <tr style=\"text-align: right;\">\n",
       "      <th></th>\n",
       "      <th>video_id</th>\n",
       "      <th>title</th>\n",
       "      <th>channel_id</th>\n",
       "      <th>channel_title</th>\n",
       "      <th>published_at</th>\n",
       "      <th>view_count</th>\n",
       "      <th>likes</th>\n",
       "      <th>dislikes</th>\n",
       "      <th>comment_count</th>\n",
       "      <th>tags</th>\n",
       "      <th>description</th>\n",
       "      <th>comments</th>\n",
       "    </tr>\n",
       "  </thead>\n",
       "  <tbody>\n",
       "    <tr>\n",
       "      <th>0</th>\n",
       "      <td>--0bCF-iK2E</td>\n",
       "      <td>Jadon Sancho  Magical Skills &amp; Goals</td>\n",
       "      <td>UC6UL29enLNe4mqwTfAyeNuw</td>\n",
       "      <td>Bundesliga</td>\n",
       "      <td>2021-07-01 10:00:00</td>\n",
       "      <td>1048888</td>\n",
       "      <td>19515</td>\n",
       "      <td>226</td>\n",
       "      <td>1319</td>\n",
       "      <td>football soccer ftbol alemn Bundesliga season ...</td>\n",
       "      <td>Enjoy the best skills and goals from Jadon San...</td>\n",
       "      <td>Respect to Dortmund fans,must be sad losing hi...</td>\n",
       "    </tr>\n",
       "    <tr>\n",
       "      <th>1</th>\n",
       "      <td>--14w5SOEUs</td>\n",
       "      <td>Migos - Avalanche (Official Video)</td>\n",
       "      <td>UCGIelM2Dj3zza3xyV3pL3WQ</td>\n",
       "      <td>MigosVEVO</td>\n",
       "      <td>2021-06-10 16:00:00</td>\n",
       "      <td>15352638</td>\n",
       "      <td>359277</td>\n",
       "      <td>7479</td>\n",
       "      <td>18729</td>\n",
       "      <td>Migos Avalanche Quality Control Music/Motown R...</td>\n",
       "      <td>Watch the the official video for Migos - \"Aval...</td>\n",
       "      <td>Migos just makes me want to live my live to th...</td>\n",
       "    </tr>\n",
       "    <tr>\n",
       "      <th>2</th>\n",
       "      <td>--40TEbZ9Is</td>\n",
       "      <td>Supporting Actress in a Comedy: 73rd Emmys</td>\n",
       "      <td>UClBKH8yZRcM4AsRjDVEdjMg</td>\n",
       "      <td>Television Academy</td>\n",
       "      <td>2021-09-20 01:03:32</td>\n",
       "      <td>925281</td>\n",
       "      <td>11212</td>\n",
       "      <td>401</td>\n",
       "      <td>831</td>\n",
       "      <td></td>\n",
       "      <td>Hannah Waddingham wins the Emmy for Supporting...</td>\n",
       "      <td>Hannah's energy bursts through any screen. Wel...</td>\n",
       "    </tr>\n",
       "    <tr>\n",
       "      <th>3</th>\n",
       "      <td>--4tfbSyYDE</td>\n",
       "      <td>JO1'YOUNG (JO1 ver.)' PERFORMANCE VIDEO</td>\n",
       "      <td>UCsmXiDP8S40uBeJYxvyulmA</td>\n",
       "      <td>JO1</td>\n",
       "      <td>2021-03-03 10:00:17</td>\n",
       "      <td>2641597</td>\n",
       "      <td>39131</td>\n",
       "      <td>441</td>\n",
       "      <td>3745</td>\n",
       "      <td>PRODUCE101JAPAN              JO1   TheSTAR STA...</td>\n",
       "      <td>JO1'YOUNG (JO1 ver.)' PERFORMANCE VIDEO\\n\\n---...</td>\n",
       "      <td>youngVer&gt;&lt;  REN is really PERFECT. It's not ju...</td>\n",
       "    </tr>\n",
       "    <tr>\n",
       "      <th>4</th>\n",
       "      <td>--DKkzWVh-E</td>\n",
       "      <td>Why Retaining Walls Collapse</td>\n",
       "      <td>UCMOqf8ab-42UUQIdVoKwjlQ</td>\n",
       "      <td>Practical Engineering</td>\n",
       "      <td>2021-12-07 13:00:00</td>\n",
       "      <td>715724</td>\n",
       "      <td>32887</td>\n",
       "      <td>367</td>\n",
       "      <td>1067</td>\n",
       "      <td>retaining wall New Jersey highway Direct Conne...</td>\n",
       "      <td>One of the most important (and innocuous) part...</td>\n",
       "      <td>Keep up with all my projects here: https://pr...</td>\n",
       "    </tr>\n",
       "  </tbody>\n",
       "</table>\n",
       "</div>"
      ],
      "text/plain": [
       "      video_id                                       title  \\\n",
       "0  --0bCF-iK2E        Jadon Sancho  Magical Skills & Goals   \n",
       "1  --14w5SOEUs          Migos - Avalanche (Official Video)   \n",
       "2  --40TEbZ9Is  Supporting Actress in a Comedy: 73rd Emmys   \n",
       "3  --4tfbSyYDE     JO1'YOUNG (JO1 ver.)' PERFORMANCE VIDEO   \n",
       "4  --DKkzWVh-E                Why Retaining Walls Collapse   \n",
       "\n",
       "                 channel_id          channel_title         published_at  \\\n",
       "0  UC6UL29enLNe4mqwTfAyeNuw             Bundesliga  2021-07-01 10:00:00   \n",
       "1  UCGIelM2Dj3zza3xyV3pL3WQ              MigosVEVO  2021-06-10 16:00:00   \n",
       "2  UClBKH8yZRcM4AsRjDVEdjMg     Television Academy  2021-09-20 01:03:32   \n",
       "3  UCsmXiDP8S40uBeJYxvyulmA                    JO1  2021-03-03 10:00:17   \n",
       "4  UCMOqf8ab-42UUQIdVoKwjlQ  Practical Engineering  2021-12-07 13:00:00   \n",
       "\n",
       "   view_count   likes  dislikes  comment_count  \\\n",
       "0     1048888   19515       226           1319   \n",
       "1    15352638  359277      7479          18729   \n",
       "2      925281   11212       401            831   \n",
       "3     2641597   39131       441           3745   \n",
       "4      715724   32887       367           1067   \n",
       "\n",
       "                                                tags  \\\n",
       "0  football soccer ftbol alemn Bundesliga season ...   \n",
       "1  Migos Avalanche Quality Control Music/Motown R...   \n",
       "2                                                      \n",
       "3  PRODUCE101JAPAN              JO1   TheSTAR STA...   \n",
       "4  retaining wall New Jersey highway Direct Conne...   \n",
       "\n",
       "                                         description  \\\n",
       "0  Enjoy the best skills and goals from Jadon San...   \n",
       "1  Watch the the official video for Migos - \"Aval...   \n",
       "2  Hannah Waddingham wins the Emmy for Supporting...   \n",
       "3  JO1'YOUNG (JO1 ver.)' PERFORMANCE VIDEO\\n\\n---...   \n",
       "4  One of the most important (and innocuous) part...   \n",
       "\n",
       "                                            comments  \n",
       "0  Respect to Dortmund fans,must be sad losing hi...  \n",
       "1  Migos just makes me want to live my live to th...  \n",
       "2  Hannah's energy bursts through any screen. Wel...  \n",
       "3  youngVer><  REN is really PERFECT. It's not ju...  \n",
       "4   Keep up with all my projects here: https://pr...  "
      ]
     },
     "execution_count": 36,
     "metadata": {},
     "output_type": "execute_result"
    }
   ],
   "source": [
    "df = pd.read_csv('youtube_dislike_dataset.csv')\n",
    "df.head()"
   ]
  },
  {
   "cell_type": "markdown",
   "id": "7222a779",
   "metadata": {},
   "source": [
    "**Bottom 5 records**"
   ]
  },
  {
   "cell_type": "code",
   "execution_count": 37,
   "id": "01b7d63e",
   "metadata": {
    "scrolled": true
   },
   "outputs": [
    {
     "data": {
      "text/html": [
       "<div>\n",
       "<style scoped>\n",
       "    .dataframe tbody tr th:only-of-type {\n",
       "        vertical-align: middle;\n",
       "    }\n",
       "\n",
       "    .dataframe tbody tr th {\n",
       "        vertical-align: top;\n",
       "    }\n",
       "\n",
       "    .dataframe thead th {\n",
       "        text-align: right;\n",
       "    }\n",
       "</style>\n",
       "<table border=\"1\" class=\"dataframe\">\n",
       "  <thead>\n",
       "    <tr style=\"text-align: right;\">\n",
       "      <th></th>\n",
       "      <th>video_id</th>\n",
       "      <th>title</th>\n",
       "      <th>channel_id</th>\n",
       "      <th>channel_title</th>\n",
       "      <th>published_at</th>\n",
       "      <th>view_count</th>\n",
       "      <th>likes</th>\n",
       "      <th>dislikes</th>\n",
       "      <th>comment_count</th>\n",
       "      <th>tags</th>\n",
       "      <th>description</th>\n",
       "      <th>comments</th>\n",
       "    </tr>\n",
       "  </thead>\n",
       "  <tbody>\n",
       "    <tr>\n",
       "      <th>37417</th>\n",
       "      <td>zzd4ydafGR0</td>\n",
       "      <td>Lil Tjay - Calling My Phone (feat. 6LACK) [Off...</td>\n",
       "      <td>UCEB4a5o_6KfjxHwNMnmj54Q</td>\n",
       "      <td>Lil Tjay</td>\n",
       "      <td>2021-02-12 05:03:49</td>\n",
       "      <td>120408275</td>\n",
       "      <td>2180780</td>\n",
       "      <td>35871</td>\n",
       "      <td>81360</td>\n",
       "      <td>Lil Tjay Steady Calling My Phone Calling My Ph...</td>\n",
       "      <td>Official video for \"Calling My Phone\" by Lil T...</td>\n",
       "      <td>'DESTINED 2 WIN' OUT NOW !! https://liltjay.ln...</td>\n",
       "    </tr>\n",
       "    <tr>\n",
       "      <th>37418</th>\n",
       "      <td>zziBybeSAtw</td>\n",
       "      <td>PELICANS at LAKERS | FULL GAME HIGHLIGHTS | Ja...</td>\n",
       "      <td>UCWJ2lWNubArHWmf3FIHbfcQ</td>\n",
       "      <td>NBA</td>\n",
       "      <td>2021-01-16 05:39:05</td>\n",
       "      <td>2841917</td>\n",
       "      <td>20759</td>\n",
       "      <td>1049</td>\n",
       "      <td>2624</td>\n",
       "      <td>NBA G League Basketball game-0022000187 Lakers...</td>\n",
       "      <td>PELICANS at LAKERS | FULL GAME HIGHLIGHTS | Ja...</td>\n",
       "      <td>Montrezl Harrell is going crazy with the rebou...</td>\n",
       "    </tr>\n",
       "    <tr>\n",
       "      <th>37419</th>\n",
       "      <td>zzk09ESX7e0</td>\n",
       "      <td>[MV]  (MAMAMOO) - Where Are We Now</td>\n",
       "      <td>UCuhAUMLzJxlP1W7mEk0_6lA</td>\n",
       "      <td>MAMAMOO</td>\n",
       "      <td>2021-06-02 09:00:10</td>\n",
       "      <td>13346678</td>\n",
       "      <td>720854</td>\n",
       "      <td>4426</td>\n",
       "      <td>90616</td>\n",
       "      <td>MAMAMOO  WAW  WAW MAMAMOO WAW Where Are We Now...</td>\n",
       "      <td>[MV]  (MAMAMOO) - Where Are We Now\\n\\nInstagra...</td>\n",
       "      <td>I honestly do not know why this song hit so ha...</td>\n",
       "    </tr>\n",
       "    <tr>\n",
       "      <th>37420</th>\n",
       "      <td>zzmQEb0Em5I</td>\n",
       "      <td>FELLIPE ESCUDERO- Master Podcast  #12</td>\n",
       "      <td>UC8NjnNWMsRqq11NYvHAQb1g</td>\n",
       "      <td>Master Podcast</td>\n",
       "      <td>2020-10-20 20:59:30</td>\n",
       "      <td>252057</td>\n",
       "      <td>19198</td>\n",
       "      <td>1234</td>\n",
       "      <td>1471</td>\n",
       "      <td>master masterpodcast lord lord vinheteiro z z ...</td>\n",
       "      <td>DOCTOR HAIR\\nhttps://www.thedoctorhair.com/?fb...</td>\n",
       "      <td>Foi um prazer passar esta tarde com vocs debat...</td>\n",
       "    </tr>\n",
       "    <tr>\n",
       "      <th>37421</th>\n",
       "      <td>zzxPZwaA-8w</td>\n",
       "      <td>Gareth Bale brace secures dramatic comeback on...</td>\n",
       "      <td>UCEg25rdRZXg32iwai6N6l0w</td>\n",
       "      <td>Tottenham Hotspur</td>\n",
       "      <td>2021-05-23 21:00:31</td>\n",
       "      <td>2252090</td>\n",
       "      <td>34063</td>\n",
       "      <td>868</td>\n",
       "      <td>2004</td>\n",
       "      <td>Spurs Tottenham Hotspur   Tottenham Leicester ...</td>\n",
       "      <td>Two minute highlights from Tottenham Hotspur's...</td>\n",
       "      <td>Thank you Kane for everything you have given t...</td>\n",
       "    </tr>\n",
       "  </tbody>\n",
       "</table>\n",
       "</div>"
      ],
      "text/plain": [
       "          video_id                                              title  \\\n",
       "37417  zzd4ydafGR0  Lil Tjay - Calling My Phone (feat. 6LACK) [Off...   \n",
       "37418  zziBybeSAtw  PELICANS at LAKERS | FULL GAME HIGHLIGHTS | Ja...   \n",
       "37419  zzk09ESX7e0                 [MV]  (MAMAMOO) - Where Are We Now   \n",
       "37420  zzmQEb0Em5I              FELLIPE ESCUDERO- Master Podcast  #12   \n",
       "37421  zzxPZwaA-8w  Gareth Bale brace secures dramatic comeback on...   \n",
       "\n",
       "                     channel_id      channel_title         published_at  \\\n",
       "37417  UCEB4a5o_6KfjxHwNMnmj54Q           Lil Tjay  2021-02-12 05:03:49   \n",
       "37418  UCWJ2lWNubArHWmf3FIHbfcQ                NBA  2021-01-16 05:39:05   \n",
       "37419  UCuhAUMLzJxlP1W7mEk0_6lA            MAMAMOO  2021-06-02 09:00:10   \n",
       "37420  UC8NjnNWMsRqq11NYvHAQb1g     Master Podcast  2020-10-20 20:59:30   \n",
       "37421  UCEg25rdRZXg32iwai6N6l0w  Tottenham Hotspur  2021-05-23 21:00:31   \n",
       "\n",
       "       view_count    likes  dislikes  comment_count  \\\n",
       "37417   120408275  2180780     35871          81360   \n",
       "37418     2841917    20759      1049           2624   \n",
       "37419    13346678   720854      4426          90616   \n",
       "37420      252057    19198      1234           1471   \n",
       "37421     2252090    34063       868           2004   \n",
       "\n",
       "                                                    tags  \\\n",
       "37417  Lil Tjay Steady Calling My Phone Calling My Ph...   \n",
       "37418  NBA G League Basketball game-0022000187 Lakers...   \n",
       "37419  MAMAMOO  WAW  WAW MAMAMOO WAW Where Are We Now...   \n",
       "37420  master masterpodcast lord lord vinheteiro z z ...   \n",
       "37421  Spurs Tottenham Hotspur   Tottenham Leicester ...   \n",
       "\n",
       "                                             description  \\\n",
       "37417  Official video for \"Calling My Phone\" by Lil T...   \n",
       "37418  PELICANS at LAKERS | FULL GAME HIGHLIGHTS | Ja...   \n",
       "37419  [MV]  (MAMAMOO) - Where Are We Now\\n\\nInstagra...   \n",
       "37420  DOCTOR HAIR\\nhttps://www.thedoctorhair.com/?fb...   \n",
       "37421  Two minute highlights from Tottenham Hotspur's...   \n",
       "\n",
       "                                                comments  \n",
       "37417  'DESTINED 2 WIN' OUT NOW !! https://liltjay.ln...  \n",
       "37418  Montrezl Harrell is going crazy with the rebou...  \n",
       "37419  I honestly do not know why this song hit so ha...  \n",
       "37420  Foi um prazer passar esta tarde com vocs debat...  \n",
       "37421  Thank you Kane for everything you have given t...  "
      ]
     },
     "execution_count": 37,
     "metadata": {},
     "output_type": "execute_result"
    }
   ],
   "source": [
    "df.tail()"
   ]
  },
  {
   "cell_type": "markdown",
   "id": "66300b8f",
   "metadata": {},
   "source": [
    "## Checking the info of the dataframe"
   ]
  },
  {
   "cell_type": "code",
   "execution_count": 38,
   "id": "cd1ede2f",
   "metadata": {
    "scrolled": true
   },
   "outputs": [
    {
     "name": "stdout",
     "output_type": "stream",
     "text": [
      "<class 'pandas.core.frame.DataFrame'>\n",
      "RangeIndex: 37422 entries, 0 to 37421\n",
      "Data columns (total 12 columns):\n",
      " #   Column         Non-Null Count  Dtype \n",
      "---  ------         --------------  ----- \n",
      " 0   video_id       37422 non-null  object\n",
      " 1   title          37422 non-null  object\n",
      " 2   channel_id     37422 non-null  object\n",
      " 3   channel_title  37422 non-null  object\n",
      " 4   published_at   37422 non-null  object\n",
      " 5   view_count     37422 non-null  int64 \n",
      " 6   likes          37422 non-null  int64 \n",
      " 7   dislikes       37422 non-null  int64 \n",
      " 8   comment_count  37422 non-null  int64 \n",
      " 9   tags           37422 non-null  object\n",
      " 10  description    37422 non-null  object\n",
      " 11  comments       37264 non-null  object\n",
      "dtypes: int64(4), object(8)\n",
      "memory usage: 3.4+ MB\n"
     ]
    }
   ],
   "source": [
    "df.info()"
   ]
  },
  {
   "cell_type": "markdown",
   "id": "6c1a290d",
   "metadata": {},
   "source": [
    "### Inferences\n",
    "* **The Shape of the data is (37422,12) 37422 rows and 12 columns**\n",
    "* **We can observe that there are two data types present in the youtube_dislike_data, four int64 type and and eight object type**"
   ]
  },
  {
   "cell_type": "markdown",
   "id": "48fee22a",
   "metadata": {},
   "source": [
    "## Checking for the Percentage of the missing values and drop them"
   ]
  },
  {
   "cell_type": "code",
   "execution_count": 39,
   "id": "07b9d642",
   "metadata": {},
   "outputs": [
    {
     "data": {
      "text/plain": [
       "158"
      ]
     },
     "execution_count": 39,
     "metadata": {},
     "output_type": "execute_result"
    }
   ],
   "source": [
    "missing_values = df.isnull().sum().sum() #assigning variable missing_values to no.of missing values\n",
    "missing_values"
   ]
  },
  {
   "cell_type": "code",
   "execution_count": 40,
   "id": "b13548a5",
   "metadata": {},
   "outputs": [
    {
     "data": {
      "text/plain": [
       "448906"
      ]
     },
     "execution_count": 40,
     "metadata": {},
     "output_type": "execute_result"
    }
   ],
   "source": [
    "total_values = df.count().sum() #assigning variable total_values to total no. of values present in the dataframe\n",
    "total_values"
   ]
  },
  {
   "cell_type": "code",
   "execution_count": 41,
   "id": "458d5e3e",
   "metadata": {
    "scrolled": true
   },
   "outputs": [
    {
     "name": "stdout",
     "output_type": "stream",
     "text": [
      "The percentage of the missing values is:  0.035\n"
     ]
    }
   ],
   "source": [
    "miss_value_per = (missing_values/total_values)*100 #assigning miss_value_per to percentage of missing values\n",
    "print(\"The percentage of the missing values is: \",miss_value_per.round(3)) #rounding it to three decimals "
   ]
  },
  {
   "cell_type": "markdown",
   "id": "80339ee5",
   "metadata": {},
   "source": [
    "**Since the percentage of null values is insignificant (0.035%), and all of them are in the comments feature, which is an object datatype, we will consider dropping the missing values insted of imputing them.**"
   ]
  },
  {
   "cell_type": "code",
   "execution_count": 42,
   "id": "44788cc3",
   "metadata": {},
   "outputs": [
    {
     "data": {
      "text/plain": [
       "158"
      ]
     },
     "execution_count": 42,
     "metadata": {},
     "output_type": "execute_result"
    }
   ],
   "source": [
    "df.isnull().sum().sum()"
   ]
  },
  {
   "cell_type": "code",
   "execution_count": 43,
   "id": "035c65c0",
   "metadata": {},
   "outputs": [],
   "source": [
    "df.dropna(inplace=True) #dropping the rows which had null values"
   ]
  },
  {
   "cell_type": "code",
   "execution_count": 44,
   "id": "455745f4",
   "metadata": {},
   "outputs": [
    {
     "data": {
      "text/plain": [
       "0"
      ]
     },
     "execution_count": 44,
     "metadata": {},
     "output_type": "execute_result"
    }
   ],
   "source": [
    "df.isnull().sum().sum() #checking whether the null values are still present "
   ]
  },
  {
   "cell_type": "code",
   "execution_count": 45,
   "id": "642a1ec1",
   "metadata": {
    "scrolled": true
   },
   "outputs": [
    {
     "name": "stdout",
     "output_type": "stream",
     "text": [
      "<class 'pandas.core.frame.DataFrame'>\n",
      "Int64Index: 37264 entries, 0 to 37421\n",
      "Data columns (total 12 columns):\n",
      " #   Column         Non-Null Count  Dtype \n",
      "---  ------         --------------  ----- \n",
      " 0   video_id       37264 non-null  object\n",
      " 1   title          37264 non-null  object\n",
      " 2   channel_id     37264 non-null  object\n",
      " 3   channel_title  37264 non-null  object\n",
      " 4   published_at   37264 non-null  object\n",
      " 5   view_count     37264 non-null  int64 \n",
      " 6   likes          37264 non-null  int64 \n",
      " 7   dislikes       37264 non-null  int64 \n",
      " 8   comment_count  37264 non-null  int64 \n",
      " 9   tags           37264 non-null  object\n",
      " 10  description    37264 non-null  object\n",
      " 11  comments       37264 non-null  object\n",
      "dtypes: int64(4), object(8)\n",
      "memory usage: 3.7+ MB\n"
     ]
    }
   ],
   "source": [
    "df.info() #we can see in the ouput that there are no null values present and we have removed the rows which had them"
   ]
  },
  {
   "cell_type": "code",
   "execution_count": 46,
   "id": "ab167b56",
   "metadata": {},
   "outputs": [
    {
     "data": {
      "text/plain": [
       "(37264, 12)"
      ]
     },
     "execution_count": 46,
     "metadata": {},
     "output_type": "execute_result"
    }
   ],
   "source": [
    "df.shape #this is the new shape of our data frame after dropping the null value rows"
   ]
  },
  {
   "cell_type": "markdown",
   "id": "78566b3a",
   "metadata": {},
   "source": [
    "## Statistical summary of Numerical and Categorical columns"
   ]
  },
  {
   "cell_type": "markdown",
   "id": "15281371",
   "metadata": {},
   "source": [
    "**Statistical summary of Numerical columns**"
   ]
  },
  {
   "cell_type": "code",
   "execution_count": 47,
   "id": "2f5d1694",
   "metadata": {
    "scrolled": true
   },
   "outputs": [
    {
     "data": {
      "text/html": [
       "<div>\n",
       "<style scoped>\n",
       "    .dataframe tbody tr th:only-of-type {\n",
       "        vertical-align: middle;\n",
       "    }\n",
       "\n",
       "    .dataframe tbody tr th {\n",
       "        vertical-align: top;\n",
       "    }\n",
       "\n",
       "    .dataframe thead th {\n",
       "        text-align: right;\n",
       "    }\n",
       "</style>\n",
       "<table border=\"1\" class=\"dataframe\">\n",
       "  <thead>\n",
       "    <tr style=\"text-align: right;\">\n",
       "      <th></th>\n",
       "      <th>view_count</th>\n",
       "      <th>likes</th>\n",
       "      <th>dislikes</th>\n",
       "      <th>comment_count</th>\n",
       "    </tr>\n",
       "  </thead>\n",
       "  <tbody>\n",
       "    <tr>\n",
       "      <th>count</th>\n",
       "      <td>37264.00</td>\n",
       "      <td>37264.00</td>\n",
       "      <td>37264.00</td>\n",
       "      <td>37264.00</td>\n",
       "    </tr>\n",
       "    <tr>\n",
       "      <th>mean</th>\n",
       "      <td>5710821.45</td>\n",
       "      <td>167286.70</td>\n",
       "      <td>4996.43</td>\n",
       "      <td>9966.95</td>\n",
       "    </tr>\n",
       "    <tr>\n",
       "      <th>std</th>\n",
       "      <td>24313037.51</td>\n",
       "      <td>538493.10</td>\n",
       "      <td>30751.94</td>\n",
       "      <td>117346.47</td>\n",
       "    </tr>\n",
       "    <tr>\n",
       "      <th>min</th>\n",
       "      <td>20368.00</td>\n",
       "      <td>22.00</td>\n",
       "      <td>3.00</td>\n",
       "      <td>1.00</td>\n",
       "    </tr>\n",
       "    <tr>\n",
       "      <th>25%</th>\n",
       "      <td>514130.50</td>\n",
       "      <td>13317.25</td>\n",
       "      <td>282.75</td>\n",
       "      <td>914.00</td>\n",
       "    </tr>\n",
       "    <tr>\n",
       "      <th>50%</th>\n",
       "      <td>1321860.50</td>\n",
       "      <td>42556.00</td>\n",
       "      <td>798.00</td>\n",
       "      <td>2347.00</td>\n",
       "    </tr>\n",
       "    <tr>\n",
       "      <th>75%</th>\n",
       "      <td>3674527.25</td>\n",
       "      <td>130966.50</td>\n",
       "      <td>2466.25</td>\n",
       "      <td>6212.00</td>\n",
       "    </tr>\n",
       "    <tr>\n",
       "      <th>max</th>\n",
       "      <td>1322796924.00</td>\n",
       "      <td>31837675.00</td>\n",
       "      <td>2397733.00</td>\n",
       "      <td>16071029.00</td>\n",
       "    </tr>\n",
       "  </tbody>\n",
       "</table>\n",
       "</div>"
      ],
      "text/plain": [
       "         view_count       likes   dislikes  comment_count\n",
       "count      37264.00    37264.00   37264.00       37264.00\n",
       "mean     5710821.45   167286.70    4996.43        9966.95\n",
       "std     24313037.51   538493.10   30751.94      117346.47\n",
       "min        20368.00       22.00       3.00           1.00\n",
       "25%       514130.50    13317.25     282.75         914.00\n",
       "50%      1321860.50    42556.00     798.00        2347.00\n",
       "75%      3674527.25   130966.50    2466.25        6212.00\n",
       "max   1322796924.00 31837675.00 2397733.00    16071029.00"
      ]
     },
     "execution_count": 47,
     "metadata": {},
     "output_type": "execute_result"
    }
   ],
   "source": [
    "df.describe()"
   ]
  },
  {
   "cell_type": "markdown",
   "id": "a0f31eee",
   "metadata": {},
   "source": [
    "**Statistical summary of Categorical columns**"
   ]
  },
  {
   "cell_type": "code",
   "execution_count": 48,
   "id": "d7737c21",
   "metadata": {
    "scrolled": true
   },
   "outputs": [
    {
     "data": {
      "text/html": [
       "<div>\n",
       "<style scoped>\n",
       "    .dataframe tbody tr th:only-of-type {\n",
       "        vertical-align: middle;\n",
       "    }\n",
       "\n",
       "    .dataframe tbody tr th {\n",
       "        vertical-align: top;\n",
       "    }\n",
       "\n",
       "    .dataframe thead th {\n",
       "        text-align: right;\n",
       "    }\n",
       "</style>\n",
       "<table border=\"1\" class=\"dataframe\">\n",
       "  <thead>\n",
       "    <tr style=\"text-align: right;\">\n",
       "      <th></th>\n",
       "      <th>video_id</th>\n",
       "      <th>title</th>\n",
       "      <th>channel_id</th>\n",
       "      <th>channel_title</th>\n",
       "      <th>published_at</th>\n",
       "      <th>tags</th>\n",
       "      <th>description</th>\n",
       "      <th>comments</th>\n",
       "    </tr>\n",
       "  </thead>\n",
       "  <tbody>\n",
       "    <tr>\n",
       "      <th>count</th>\n",
       "      <td>37264</td>\n",
       "      <td>37264</td>\n",
       "      <td>37264</td>\n",
       "      <td>37264</td>\n",
       "      <td>37264</td>\n",
       "      <td>37264</td>\n",
       "      <td>37264</td>\n",
       "      <td>37264</td>\n",
       "    </tr>\n",
       "    <tr>\n",
       "      <th>unique</th>\n",
       "      <td>37264</td>\n",
       "      <td>36958</td>\n",
       "      <td>10891</td>\n",
       "      <td>10813</td>\n",
       "      <td>36617</td>\n",
       "      <td>28705</td>\n",
       "      <td>35479</td>\n",
       "      <td>37264</td>\n",
       "    </tr>\n",
       "    <tr>\n",
       "      <th>top</th>\n",
       "      <td>--0bCF-iK2E</td>\n",
       "      <td>www</td>\n",
       "      <td>UCNAf1k0yIjyGu3k9BwAg3lg</td>\n",
       "      <td>Sky Sports Football</td>\n",
       "      <td>2020-10-16 04:00:10</td>\n",
       "      <td></td>\n",
       "      <td></td>\n",
       "      <td>Respect to Dortmund fans,must be sad losing hi...</td>\n",
       "    </tr>\n",
       "    <tr>\n",
       "      <th>freq</th>\n",
       "      <td>1</td>\n",
       "      <td>21</td>\n",
       "      <td>533</td>\n",
       "      <td>533</td>\n",
       "      <td>6</td>\n",
       "      <td>3808</td>\n",
       "      <td>587</td>\n",
       "      <td>1</td>\n",
       "    </tr>\n",
       "  </tbody>\n",
       "</table>\n",
       "</div>"
      ],
      "text/plain": [
       "           video_id  title                channel_id        channel_title  \\\n",
       "count         37264  37264                     37264                37264   \n",
       "unique        37264  36958                     10891                10813   \n",
       "top     --0bCF-iK2E    www  UCNAf1k0yIjyGu3k9BwAg3lg  Sky Sports Football   \n",
       "freq              1     21                       533                  533   \n",
       "\n",
       "               published_at   tags description  \\\n",
       "count                 37264  37264       37264   \n",
       "unique                36617  28705       35479   \n",
       "top     2020-10-16 04:00:10                      \n",
       "freq                      6   3808         587   \n",
       "\n",
       "                                                 comments  \n",
       "count                                               37264  \n",
       "unique                                              37264  \n",
       "top     Respect to Dortmund fans,must be sad losing hi...  \n",
       "freq                                                    1  "
      ]
     },
     "execution_count": 48,
     "metadata": {},
     "output_type": "execute_result"
    }
   ],
   "source": [
    "df.describe(include = 'object')"
   ]
  },
  {
   "cell_type": "markdown",
   "id": "d60c1750",
   "metadata": {},
   "source": [
    "**Inferences**\n",
    "\n",
    "**from Numerical Columns:**\n",
    "\n",
    "* We observe that on average the no. of views of youtube videos from this dataset are **5.7 million (5,710,821)**.\n",
    "\n",
    "* We see that the standard deviation for almost all the quantitative or numerical features of this dataset are really high which suggests us that values vary greatly from the mean values.So there is a large degree of variation in the popularity or engagement of YouTube videos\n",
    "\n",
    "* On average the likes and dislikes that a video gets in this dataset are about **167k (167,287)** and **5K (4,996)** respectively(Note: that there is high stadard deviation which means that the degree of variability of these metrics is really high due to high standard deviation in this feature)\n",
    "\n",
    "* The average comments that a video gets in this dataset are about **10K (9,967)**(Note: degree of variability is high due to high standard deviation in this feature)\n",
    "\n",
    "* The maximum and minimum number of views a video from this dataset got was about **1.32 billion** and **20 thousand** respectively. This tells you how big the range is.\n",
    "\n",
    "* The maximum no. of likes a video got was about **31.8 million (31,837,675)**\n",
    "\n",
    "* The maximum no. of dislikes a video got was about **2.39 million (2,397,733)**\n",
    "\n",
    "**From Categorical Columns:**\n",
    "\n",
    "* We notice that there are **10,813** unique channels who have together posted 37,264 videos\n",
    "\n",
    "* Out of the total titles of videos 37,264 we see the unique titles are 36,958, this tells us that there are **306 videos** which have a copied/exact title from a different video\n",
    "\n",
    "* The most frequently occuring Youtube channel in this dataset is **Sky Sports Football**\n",
    "\n",
    "* The frequency of most frequently occuring channel Sky Sports Football is **533**."
   ]
  },
  {
   "cell_type": "markdown",
   "id": "c9f2194f",
   "metadata": {},
   "source": [
    "## Converting datatype of column published_at from object to pandas datetime."
   ]
  },
  {
   "cell_type": "code",
   "execution_count": 49,
   "id": "c17f3dfc",
   "metadata": {},
   "outputs": [],
   "source": [
    "df['published_at'] = pd.to_datetime(df['published_at']) #converting published_at column to datetime using to_datetime()"
   ]
  },
  {
   "cell_type": "code",
   "execution_count": 50,
   "id": "1523fd5b",
   "metadata": {
    "scrolled": true
   },
   "outputs": [
    {
     "name": "stdout",
     "output_type": "stream",
     "text": [
      "<class 'pandas.core.frame.DataFrame'>\n",
      "Int64Index: 37264 entries, 0 to 37421\n",
      "Data columns (total 12 columns):\n",
      " #   Column         Non-Null Count  Dtype         \n",
      "---  ------         --------------  -----         \n",
      " 0   video_id       37264 non-null  object        \n",
      " 1   title          37264 non-null  object        \n",
      " 2   channel_id     37264 non-null  object        \n",
      " 3   channel_title  37264 non-null  object        \n",
      " 4   published_at   37264 non-null  datetime64[ns]\n",
      " 5   view_count     37264 non-null  int64         \n",
      " 6   likes          37264 non-null  int64         \n",
      " 7   dislikes       37264 non-null  int64         \n",
      " 8   comment_count  37264 non-null  int64         \n",
      " 9   tags           37264 non-null  object        \n",
      " 10  description    37264 non-null  object        \n",
      " 11  comments       37264 non-null  object        \n",
      "dtypes: datetime64[ns](1), int64(4), object(7)\n",
      "memory usage: 3.7+ MB\n"
     ]
    }
   ],
   "source": [
    "df.info() #To check if have converted the published_at column to datetime"
   ]
  },
  {
   "cell_type": "markdown",
   "id": "b86afaab",
   "metadata": {},
   "source": [
    "## Creating a new column as 'published_month' using the column published_at (displaying the months only)"
   ]
  },
  {
   "cell_type": "code",
   "execution_count": 51,
   "id": "4ac320f9",
   "metadata": {},
   "outputs": [],
   "source": [
    "df['published_month'] = df['published_at'].dt.month #creating a new column 'published_month'"
   ]
  },
  {
   "cell_type": "code",
   "execution_count": 52,
   "id": "ecd12b34",
   "metadata": {
    "scrolled": true
   },
   "outputs": [
    {
     "data": {
      "text/html": [
       "<div>\n",
       "<style scoped>\n",
       "    .dataframe tbody tr th:only-of-type {\n",
       "        vertical-align: middle;\n",
       "    }\n",
       "\n",
       "    .dataframe tbody tr th {\n",
       "        vertical-align: top;\n",
       "    }\n",
       "\n",
       "    .dataframe thead th {\n",
       "        text-align: right;\n",
       "    }\n",
       "</style>\n",
       "<table border=\"1\" class=\"dataframe\">\n",
       "  <thead>\n",
       "    <tr style=\"text-align: right;\">\n",
       "      <th></th>\n",
       "      <th>video_id</th>\n",
       "      <th>title</th>\n",
       "      <th>channel_id</th>\n",
       "      <th>channel_title</th>\n",
       "      <th>published_at</th>\n",
       "      <th>view_count</th>\n",
       "      <th>likes</th>\n",
       "      <th>dislikes</th>\n",
       "      <th>comment_count</th>\n",
       "      <th>tags</th>\n",
       "      <th>description</th>\n",
       "      <th>comments</th>\n",
       "      <th>published_month</th>\n",
       "    </tr>\n",
       "  </thead>\n",
       "  <tbody>\n",
       "    <tr>\n",
       "      <th>0</th>\n",
       "      <td>--0bCF-iK2E</td>\n",
       "      <td>Jadon Sancho  Magical Skills &amp; Goals</td>\n",
       "      <td>UC6UL29enLNe4mqwTfAyeNuw</td>\n",
       "      <td>Bundesliga</td>\n",
       "      <td>2021-07-01 10:00:00</td>\n",
       "      <td>1048888</td>\n",
       "      <td>19515</td>\n",
       "      <td>226</td>\n",
       "      <td>1319</td>\n",
       "      <td>football soccer ftbol alemn Bundesliga season ...</td>\n",
       "      <td>Enjoy the best skills and goals from Jadon San...</td>\n",
       "      <td>Respect to Dortmund fans,must be sad losing hi...</td>\n",
       "      <td>7</td>\n",
       "    </tr>\n",
       "    <tr>\n",
       "      <th>1</th>\n",
       "      <td>--14w5SOEUs</td>\n",
       "      <td>Migos - Avalanche (Official Video)</td>\n",
       "      <td>UCGIelM2Dj3zza3xyV3pL3WQ</td>\n",
       "      <td>MigosVEVO</td>\n",
       "      <td>2021-06-10 16:00:00</td>\n",
       "      <td>15352638</td>\n",
       "      <td>359277</td>\n",
       "      <td>7479</td>\n",
       "      <td>18729</td>\n",
       "      <td>Migos Avalanche Quality Control Music/Motown R...</td>\n",
       "      <td>Watch the the official video for Migos - \"Aval...</td>\n",
       "      <td>Migos just makes me want to live my live to th...</td>\n",
       "      <td>6</td>\n",
       "    </tr>\n",
       "  </tbody>\n",
       "</table>\n",
       "</div>"
      ],
      "text/plain": [
       "      video_id                                 title  \\\n",
       "0  --0bCF-iK2E  Jadon Sancho  Magical Skills & Goals   \n",
       "1  --14w5SOEUs    Migos - Avalanche (Official Video)   \n",
       "\n",
       "                 channel_id channel_title        published_at  view_count  \\\n",
       "0  UC6UL29enLNe4mqwTfAyeNuw    Bundesliga 2021-07-01 10:00:00     1048888   \n",
       "1  UCGIelM2Dj3zza3xyV3pL3WQ     MigosVEVO 2021-06-10 16:00:00    15352638   \n",
       "\n",
       "    likes  dislikes  comment_count  \\\n",
       "0   19515       226           1319   \n",
       "1  359277      7479          18729   \n",
       "\n",
       "                                                tags  \\\n",
       "0  football soccer ftbol alemn Bundesliga season ...   \n",
       "1  Migos Avalanche Quality Control Music/Motown R...   \n",
       "\n",
       "                                         description  \\\n",
       "0  Enjoy the best skills and goals from Jadon San...   \n",
       "1  Watch the the official video for Migos - \"Aval...   \n",
       "\n",
       "                                            comments  published_month  \n",
       "0  Respect to Dortmund fans,must be sad losing hi...                7  \n",
       "1  Migos just makes me want to live my live to th...                6  "
      ]
     },
     "execution_count": 52,
     "metadata": {},
     "output_type": "execute_result"
    }
   ],
   "source": [
    "df.head(2) #To check whether the column got added or not"
   ]
  },
  {
   "cell_type": "code",
   "execution_count": 53,
   "id": "3515ee65",
   "metadata": {
    "scrolled": true
   },
   "outputs": [
    {
     "data": {
      "text/plain": [
       "(37264, 13)"
      ]
     },
     "execution_count": 53,
     "metadata": {},
     "output_type": "execute_result"
    }
   ],
   "source": [
    "df.shape #as we can see the column length has increased from 12 to 13"
   ]
  },
  {
   "cell_type": "markdown",
   "id": "c5e7bea2",
   "metadata": {},
   "source": [
    "## Replacing the numbers in the column published_month as names of the months i,e., 1 as 'Jan', 2 as 'Feb' and so on....."
   ]
  },
  {
   "cell_type": "code",
   "execution_count": 54,
   "id": "b4673518",
   "metadata": {},
   "outputs": [],
   "source": [
    "#Let's first create a dictionary that we could map afterwards with published_month column\n",
    "\n",
    "month_dict = {1:'Jan',2:'Feb',3:'Mar',4:'Apr',5:'May',6:'June',7:'July',8:'Aug',9:'Sept',10:'Oct',11:'Nov',12:'Dec'}"
   ]
  },
  {
   "cell_type": "code",
   "execution_count": 55,
   "id": "299cdc53",
   "metadata": {},
   "outputs": [],
   "source": [
    "#mapping month_dict with published_month \n",
    "df['published_month'] = df['published_month'].map(month_dict)"
   ]
  },
  {
   "cell_type": "code",
   "execution_count": 56,
   "id": "f2e8b23e",
   "metadata": {
    "scrolled": true
   },
   "outputs": [
    {
     "data": {
      "text/html": [
       "<div>\n",
       "<style scoped>\n",
       "    .dataframe tbody tr th:only-of-type {\n",
       "        vertical-align: middle;\n",
       "    }\n",
       "\n",
       "    .dataframe tbody tr th {\n",
       "        vertical-align: top;\n",
       "    }\n",
       "\n",
       "    .dataframe thead th {\n",
       "        text-align: right;\n",
       "    }\n",
       "</style>\n",
       "<table border=\"1\" class=\"dataframe\">\n",
       "  <thead>\n",
       "    <tr style=\"text-align: right;\">\n",
       "      <th></th>\n",
       "      <th>video_id</th>\n",
       "      <th>title</th>\n",
       "      <th>channel_id</th>\n",
       "      <th>channel_title</th>\n",
       "      <th>published_at</th>\n",
       "      <th>view_count</th>\n",
       "      <th>likes</th>\n",
       "      <th>dislikes</th>\n",
       "      <th>comment_count</th>\n",
       "      <th>tags</th>\n",
       "      <th>description</th>\n",
       "      <th>comments</th>\n",
       "      <th>published_month</th>\n",
       "    </tr>\n",
       "  </thead>\n",
       "  <tbody>\n",
       "    <tr>\n",
       "      <th>0</th>\n",
       "      <td>--0bCF-iK2E</td>\n",
       "      <td>Jadon Sancho  Magical Skills &amp; Goals</td>\n",
       "      <td>UC6UL29enLNe4mqwTfAyeNuw</td>\n",
       "      <td>Bundesliga</td>\n",
       "      <td>2021-07-01 10:00:00</td>\n",
       "      <td>1048888</td>\n",
       "      <td>19515</td>\n",
       "      <td>226</td>\n",
       "      <td>1319</td>\n",
       "      <td>football soccer ftbol alemn Bundesliga season ...</td>\n",
       "      <td>Enjoy the best skills and goals from Jadon San...</td>\n",
       "      <td>Respect to Dortmund fans,must be sad losing hi...</td>\n",
       "      <td>July</td>\n",
       "    </tr>\n",
       "    <tr>\n",
       "      <th>1</th>\n",
       "      <td>--14w5SOEUs</td>\n",
       "      <td>Migos - Avalanche (Official Video)</td>\n",
       "      <td>UCGIelM2Dj3zza3xyV3pL3WQ</td>\n",
       "      <td>MigosVEVO</td>\n",
       "      <td>2021-06-10 16:00:00</td>\n",
       "      <td>15352638</td>\n",
       "      <td>359277</td>\n",
       "      <td>7479</td>\n",
       "      <td>18729</td>\n",
       "      <td>Migos Avalanche Quality Control Music/Motown R...</td>\n",
       "      <td>Watch the the official video for Migos - \"Aval...</td>\n",
       "      <td>Migos just makes me want to live my live to th...</td>\n",
       "      <td>June</td>\n",
       "    </tr>\n",
       "  </tbody>\n",
       "</table>\n",
       "</div>"
      ],
      "text/plain": [
       "      video_id                                 title  \\\n",
       "0  --0bCF-iK2E  Jadon Sancho  Magical Skills & Goals   \n",
       "1  --14w5SOEUs    Migos - Avalanche (Official Video)   \n",
       "\n",
       "                 channel_id channel_title        published_at  view_count  \\\n",
       "0  UC6UL29enLNe4mqwTfAyeNuw    Bundesliga 2021-07-01 10:00:00     1048888   \n",
       "1  UCGIelM2Dj3zza3xyV3pL3WQ     MigosVEVO 2021-06-10 16:00:00    15352638   \n",
       "\n",
       "    likes  dislikes  comment_count  \\\n",
       "0   19515       226           1319   \n",
       "1  359277      7479          18729   \n",
       "\n",
       "                                                tags  \\\n",
       "0  football soccer ftbol alemn Bundesliga season ...   \n",
       "1  Migos Avalanche Quality Control Music/Motown R...   \n",
       "\n",
       "                                         description  \\\n",
       "0  Enjoy the best skills and goals from Jadon San...   \n",
       "1  Watch the the official video for Migos - \"Aval...   \n",
       "\n",
       "                                            comments published_month  \n",
       "0  Respect to Dortmund fans,must be sad losing hi...            July  \n",
       "1  Migos just makes me want to live my live to th...            June  "
      ]
     },
     "execution_count": 56,
     "metadata": {},
     "output_type": "execute_result"
    }
   ],
   "source": [
    "df.head(2) #To check whether it got replaced"
   ]
  },
  {
   "cell_type": "markdown",
   "id": "f9c2f3b4",
   "metadata": {},
   "source": [
    "## Exploratory Data Analysis"
   ]
  },
  {
   "cell_type": "markdown",
   "id": "b9634bc4",
   "metadata": {},
   "source": [
    "### Total number of Videos uploaded in the Dataset"
   ]
  },
  {
   "cell_type": "code",
   "execution_count": 57,
   "id": "d7603c38",
   "metadata": {},
   "outputs": [
    {
     "name": "stdout",
     "output_type": "stream",
     "text": [
      "Total number of Videos uploaded in the Datatset: 37264\n"
     ]
    }
   ],
   "source": [
    "print(\"Total number of Videos uploaded in the Datatset:\",df[\"video_id\"].count())"
   ]
  },
  {
   "cell_type": "markdown",
   "id": "c1bd7740",
   "metadata": {},
   "source": [
    "**We have 37,264 videos in our dataset**"
   ]
  },
  {
   "cell_type": "markdown",
   "id": "a0f8e595",
   "metadata": {},
   "source": [
    "### Number of Channels present in the Dataset"
   ]
  },
  {
   "cell_type": "code",
   "execution_count": 58,
   "id": "71d665ca",
   "metadata": {
    "scrolled": true
   },
   "outputs": [
    {
     "name": "stdout",
     "output_type": "stream",
     "text": [
      "Number of Channels present in the Dataset: 10891\n"
     ]
    }
   ],
   "source": [
    "print(\"Number of Channels present in the Dataset:\",df[\"channel_id\"].nunique())"
   ]
  },
  {
   "cell_type": "markdown",
   "id": "07cfb434",
   "metadata": {},
   "source": [
    "**There are 10,891 Channels in our Dataset**"
   ]
  },
  {
   "cell_type": "markdown",
   "id": "dee4cae3",
   "metadata": {},
   "source": [
    "###  Median views for a video in this Dataset"
   ]
  },
  {
   "cell_type": "code",
   "execution_count": 59,
   "id": "3046156b",
   "metadata": {
    "scrolled": true
   },
   "outputs": [
    {
     "data": {
      "text/plain": [
       "1321860.5"
      ]
     },
     "execution_count": 59,
     "metadata": {},
     "output_type": "execute_result"
    }
   ],
   "source": [
    "df[\"view_count\"].median()"
   ]
  },
  {
   "cell_type": "markdown",
   "id": "58b6a1f7",
   "metadata": {},
   "source": [
    "### Number of Videos Uploaded by Month"
   ]
  },
  {
   "cell_type": "code",
   "execution_count": 93,
   "id": "15e85f63",
   "metadata": {},
   "outputs": [
    {
     "data": {
      "text/html": [
       "<div>\n",
       "<style scoped>\n",
       "    .dataframe tbody tr th:only-of-type {\n",
       "        vertical-align: middle;\n",
       "    }\n",
       "\n",
       "    .dataframe tbody tr th {\n",
       "        vertical-align: top;\n",
       "    }\n",
       "\n",
       "    .dataframe thead th {\n",
       "        text-align: right;\n",
       "    }\n",
       "</style>\n",
       "<table border=\"1\" class=\"dataframe\">\n",
       "  <thead>\n",
       "    <tr style=\"text-align: right;\">\n",
       "      <th></th>\n",
       "      <th>video_id</th>\n",
       "    </tr>\n",
       "    <tr>\n",
       "      <th>published_month</th>\n",
       "      <th></th>\n",
       "    </tr>\n",
       "  </thead>\n",
       "  <tbody>\n",
       "    <tr>\n",
       "      <th>Jan</th>\n",
       "      <td>2099</td>\n",
       "    </tr>\n",
       "    <tr>\n",
       "      <th>Feb</th>\n",
       "      <td>2125</td>\n",
       "    </tr>\n",
       "    <tr>\n",
       "      <th>Mar</th>\n",
       "      <td>2248</td>\n",
       "    </tr>\n",
       "    <tr>\n",
       "      <th>Apr</th>\n",
       "      <td>2119</td>\n",
       "    </tr>\n",
       "    <tr>\n",
       "      <th>May</th>\n",
       "      <td>2073</td>\n",
       "    </tr>\n",
       "    <tr>\n",
       "      <th>June</th>\n",
       "      <td>2305</td>\n",
       "    </tr>\n",
       "    <tr>\n",
       "      <th>July</th>\n",
       "      <td>2331</td>\n",
       "    </tr>\n",
       "    <tr>\n",
       "      <th>Aug</th>\n",
       "      <td>4250</td>\n",
       "    </tr>\n",
       "    <tr>\n",
       "      <th>Sept</th>\n",
       "      <td>4854</td>\n",
       "    </tr>\n",
       "    <tr>\n",
       "      <th>Oct</th>\n",
       "      <td>4976</td>\n",
       "    </tr>\n",
       "    <tr>\n",
       "      <th>Nov</th>\n",
       "      <td>4821</td>\n",
       "    </tr>\n",
       "    <tr>\n",
       "      <th>Dec</th>\n",
       "      <td>3063</td>\n",
       "    </tr>\n",
       "  </tbody>\n",
       "</table>\n",
       "</div>"
      ],
      "text/plain": [
       "                 video_id\n",
       "published_month          \n",
       "Jan                  2099\n",
       "Feb                  2125\n",
       "Mar                  2248\n",
       "Apr                  2119\n",
       "May                  2073\n",
       "June                 2305\n",
       "July                 2331\n",
       "Aug                  4250\n",
       "Sept                 4854\n",
       "Oct                  4976\n",
       "Nov                  4821\n",
       "Dec                  3063"
      ]
     },
     "execution_count": 93,
     "metadata": {},
     "output_type": "execute_result"
    }
   ],
   "source": [
    "month = ['Jan', 'Feb', 'Mar', 'Apr', 'May', 'June', 'July', 'Aug', 'Sept', 'Oct', 'Nov', 'Dec']\n",
    "\n",
    "#Ordering the months categorical column\n",
    "df[\"published_month\"] = pd.Categorical(df[\"published_month\"],categories=month,ordered = True)\n",
    "\n",
    "#Grouping by published month with number of videos uploaded\n",
    "monthly_videos_uploaded = df.groupby(\"published_month\")[\"video_id\"].count().to_frame().sort_values(\"published_month\")\n",
    "\n",
    "monthly_videos_uploaded"
   ]
  },
  {
   "cell_type": "markdown",
   "id": "0ac731bf",
   "metadata": {},
   "source": [
    "#### Vizualization"
   ]
  },
  {
   "cell_type": "code",
   "execution_count": 64,
   "id": "f79aa8dc",
   "metadata": {
    "scrolled": false
   },
   "outputs": [
    {
     "data": {
      "image/png": "[encoded data removed]",
      "text/plain": [
       "<Figure size 1200x600 with 1 Axes>"
      ]
     },
     "metadata": {},
     "output_type": "display_data"
    }
   ],
   "source": [
    "# Creating the line plot\n",
    "plt.figure(figsize=(12, 6))\n",
    "sns.lineplot(x=\"published_month\", y=\"video_id\", data = monthly_videos_uploaded,marker='o')\n",
    "\n",
    "# Customizing the plot\n",
    "plt.title('Number of videos Uploaded by Month', fontsize=16)\n",
    "plt.xlabel('Published Month', fontsize=14)\n",
    "plt.ylabel('Number of Videos Uploaded', fontsize=14)\n",
    "plt.xticks(rotation=45)\n",
    "plt.grid(True)\n",
    "\n",
    "# Showing the plot\n",
    "plt.show()"
   ]
  },
  {
   "cell_type": "markdown",
   "id": "388be59b",
   "metadata": {},
   "source": [
    "### Observation: \n",
    "* This pattern suggests that content creation ramps up significantly towards the end of the year, particularly in the fall, while the early months of the year see comparatively lower activity.\n",
    "* **High Activity Months:** The peak months for video uploads are **September (4,854), October (4,976), and November (4,821)**, indicating a high level of content creation activity during the rainy and Winter Season.\n",
    "* **Low Activity Months:** The months with the lowest uploads are **May (2,073), January (2,099), and February (2,125)**, suggesting a slower period in the late winter and early spring and Summer.\n",
    "* **Mid-Year Increase:** There is a noticeable increase in uploads during the rainy months, with a significant jump in August (4,250)."
   ]
  },
  {
   "cell_type": "markdown",
   "id": "87b6b19e",
   "metadata": {},
   "source": [
    "## How do different YouTube channels compare in terms of video performance?"
   ]
  },
  {
   "cell_type": "markdown",
   "id": "85646fbf",
   "metadata": {},
   "source": [
    "### The title of the video which has the maximum number of likes and minimum number of Likes"
   ]
  },
  {
   "cell_type": "markdown",
   "id": "d613882e",
   "metadata": {},
   "source": [
    "**We took help of groupby method, max method and sort_value(ascending = false) to find the value and assigned the variable extreme_likes, to find the maximum likes title we use .head(1)**"
   ]
  },
  {
   "cell_type": "code",
   "execution_count": 65,
   "id": "96e41f1a",
   "metadata": {
    "scrolled": true
   },
   "outputs": [
    {
     "name": "stdout",
     "output_type": "stream",
     "text": [
      "the title of the video with max. no. of likes is:\n",
      "title\n",
      "BTS () 'Dynamite' Official MV    31837675\n",
      "Name: likes, dtype: int64\n"
     ]
    }
   ],
   "source": [
    "extreme_likes = df.groupby('title')['likes'].max().sort_values(ascending=False)\n",
    "print(\"the title of the video with max. no. of likes is:\")\n",
    "print(extreme_likes.head(1))"
   ]
  },
  {
   "cell_type": "code",
   "execution_count": 66,
   "id": "8789481c",
   "metadata": {
    "scrolled": true
   },
   "outputs": [
    {
     "name": "stdout",
     "output_type": "stream",
     "text": [
      "the title of the video with min. no. of likes is:\n",
      "title\n",
      "Leading the Charge | Circle K    22\n",
      "Name: likes, dtype: int64\n"
     ]
    }
   ],
   "source": [
    "print(\"the title of the video with min. no. of likes is:\")\n",
    "print(extreme_likes.tail(1))"
   ]
  },
  {
   "cell_type": "markdown",
   "id": "567c8854",
   "metadata": {},
   "source": [
    "**Inference**\n",
    "\n",
    "The Title of the Video with maximum no. of likes is **\"BTS () 'Dynamite' Official MV\"** with **31,837,675 likes**\n",
    "\n",
    "* most probable reason why this video has the most no. of likes is because it is a music video of a famous music band\n",
    "\n",
    "The Title of the Video with minimum no. of likes is **\"Leading the Charge | Circle K\"** with  **22 likes**\n",
    "\n",
    "* most probable reason why this video has least no. of likes is because it's just a random advertisement on EV"
   ]
  },
  {
   "cell_type": "markdown",
   "id": "0ff62424",
   "metadata": {},
   "source": [
    "### Title of the video which has the maximum number of dislikes and Minimum number of dislikes"
   ]
  },
  {
   "cell_type": "code",
   "execution_count": 67,
   "id": "339444e5",
   "metadata": {
    "scrolled": true
   },
   "outputs": [
    {
     "name": "stdout",
     "output_type": "stream",
     "text": [
      "the title of the video with max. no. of dislikes is:\n",
      "title\n",
      "Cuties | Official Trailer | Netflix    2397733\n",
      "Name: dislikes, dtype: int64\n"
     ]
    }
   ],
   "source": [
    "extreme_dislikes = df.groupby('title')['dislikes'].max().sort_values(ascending=False)\n",
    "print(\"the title of the video with max. no. of dislikes is:\")\n",
    "print(extreme_dislikes.head(1))"
   ]
  },
  {
   "cell_type": "markdown",
   "id": "bc57be6a",
   "metadata": {},
   "source": [
    "**Inference** \n",
    "\n",
    "The Title of the Video with maximum no. of dislikes is **\"Cuties | Official Trailer | Netflix\"** with **2,397,733 dislikes**\n",
    "\n",
    "The Title of the Video with minimum no. of dislikes is **\"Tims For Good: A Taste Of The Familiar\"** with **3 dislikes**"
   ]
  },
  {
   "cell_type": "markdown",
   "id": "a4f22af7",
   "metadata": {},
   "source": [
    "### Top 5 channels with highest number of views"
   ]
  },
  {
   "cell_type": "code",
   "execution_count": 68,
   "id": "e7e4056b",
   "metadata": {},
   "outputs": [
    {
     "data": {
      "text/html": [
       "<div>\n",
       "<style scoped>\n",
       "    .dataframe tbody tr th:only-of-type {\n",
       "        vertical-align: middle;\n",
       "    }\n",
       "\n",
       "    .dataframe tbody tr th {\n",
       "        vertical-align: top;\n",
       "    }\n",
       "\n",
       "    .dataframe thead th {\n",
       "        text-align: right;\n",
       "    }\n",
       "</style>\n",
       "<table border=\"1\" class=\"dataframe\">\n",
       "  <thead>\n",
       "    <tr style=\"text-align: right;\">\n",
       "      <th></th>\n",
       "      <th>view_count</th>\n",
       "    </tr>\n",
       "    <tr>\n",
       "      <th>title</th>\n",
       "      <th></th>\n",
       "    </tr>\n",
       "  </thead>\n",
       "  <tbody>\n",
       "    <tr>\n",
       "      <th>BTS () 'Dynamite' Official MV</th>\n",
       "      <td>1322796924</td>\n",
       "    </tr>\n",
       "    <tr>\n",
       "      <th>52 GAJ KA DAMAN | PRANJAL DAHIYA | AMAN JAJI | RENUKA PANWAR  | MUKESH JAJI | SAHIL SANDHU</th>\n",
       "      <td>1269596718</td>\n",
       "    </tr>\n",
       "    <tr>\n",
       "      <th>BAD BUNNY x JHAY CORTEZ - DKITI (Video Oficial)</th>\n",
       "      <td>976281963</td>\n",
       "    </tr>\n",
       "    <tr>\n",
       "      <th>KAROL G - BICHOTA</th>\n",
       "      <td>915874131</td>\n",
       "    </tr>\n",
       "    <tr>\n",
       "      <th>BLACKPINK - 'Ice Cream (with Selena Gomez)' M/V</th>\n",
       "      <td>671712535</td>\n",
       "    </tr>\n",
       "  </tbody>\n",
       "</table>\n",
       "</div>"
      ],
      "text/plain": [
       "                                                    view_count\n",
       "title                                                         \n",
       "BTS () 'Dynamite' Official MV                       1322796924\n",
       "52 GAJ KA DAMAN | PRANJAL DAHIYA | AMAN JAJI | ...  1269596718\n",
       "BAD BUNNY x JHAY CORTEZ - DKITI (Video Oficial)      976281963\n",
       "KAROL G - BICHOTA                                    915874131\n",
       "BLACKPINK - 'Ice Cream (with Selena Gomez)' M/V      671712535"
      ]
     },
     "execution_count": 68,
     "metadata": {},
     "output_type": "execute_result"
    }
   ],
   "source": [
    "df.groupby(\"title\")[\"view_count\"].sum().to_frame().sort_values(by=\"view_count\",ascending=False).head()"
   ]
  },
  {
   "cell_type": "markdown",
   "id": "9231f0b1",
   "metadata": {},
   "source": [
    "### Top 5 Most liked Channels"
   ]
  },
  {
   "cell_type": "code",
   "execution_count": 69,
   "id": "f90a7c20",
   "metadata": {},
   "outputs": [
    {
     "data": {
      "text/html": [
       "<div>\n",
       "<style scoped>\n",
       "    .dataframe tbody tr th:only-of-type {\n",
       "        vertical-align: middle;\n",
       "    }\n",
       "\n",
       "    .dataframe tbody tr th {\n",
       "        vertical-align: top;\n",
       "    }\n",
       "\n",
       "    .dataframe thead th {\n",
       "        text-align: right;\n",
       "    }\n",
       "</style>\n",
       "<table border=\"1\" class=\"dataframe\">\n",
       "  <thead>\n",
       "    <tr style=\"text-align: right;\">\n",
       "      <th></th>\n",
       "      <th>likes</th>\n",
       "    </tr>\n",
       "    <tr>\n",
       "      <th>channel_title</th>\n",
       "      <th></th>\n",
       "    </tr>\n",
       "  </thead>\n",
       "  <tbody>\n",
       "    <tr>\n",
       "      <th>HYBE LABELS</th>\n",
       "      <td>181012327</td>\n",
       "    </tr>\n",
       "    <tr>\n",
       "      <th>BANGTANTV</th>\n",
       "      <td>146817124</td>\n",
       "    </tr>\n",
       "    <tr>\n",
       "      <th>BLACKPINK</th>\n",
       "      <td>132261499</td>\n",
       "    </tr>\n",
       "    <tr>\n",
       "      <th>MrBeast</th>\n",
       "      <td>123658485</td>\n",
       "    </tr>\n",
       "    <tr>\n",
       "      <th>SMTOWN</th>\n",
       "      <td>70189108</td>\n",
       "    </tr>\n",
       "  </tbody>\n",
       "</table>\n",
       "</div>"
      ],
      "text/plain": [
       "                   likes\n",
       "channel_title           \n",
       "HYBE LABELS    181012327\n",
       "BANGTANTV      146817124\n",
       "BLACKPINK      132261499\n",
       "MrBeast        123658485\n",
       "SMTOWN          70189108"
      ]
     },
     "execution_count": 69,
     "metadata": {},
     "output_type": "execute_result"
    }
   ],
   "source": [
    "df.groupby(\"channel_title\")[\"likes\"].sum().to_frame().sort_values(by=\"likes\",ascending=False).head(5)"
   ]
  },
  {
   "cell_type": "markdown",
   "id": "fd08fd2a",
   "metadata": {},
   "source": [
    "### Top 5 most Disliked Channels"
   ]
  },
  {
   "cell_type": "code",
   "execution_count": 70,
   "id": "ead69064",
   "metadata": {},
   "outputs": [
    {
     "data": {
      "text/html": [
       "<div>\n",
       "<style scoped>\n",
       "    .dataframe tbody tr th:only-of-type {\n",
       "        vertical-align: middle;\n",
       "    }\n",
       "\n",
       "    .dataframe tbody tr th {\n",
       "        vertical-align: top;\n",
       "    }\n",
       "\n",
       "    .dataframe thead th {\n",
       "        text-align: right;\n",
       "    }\n",
       "</style>\n",
       "<table border=\"1\" class=\"dataframe\">\n",
       "  <thead>\n",
       "    <tr style=\"text-align: right;\">\n",
       "      <th></th>\n",
       "      <th>dislikes</th>\n",
       "    </tr>\n",
       "    <tr>\n",
       "      <th>channel_title</th>\n",
       "      <th></th>\n",
       "    </tr>\n",
       "  </thead>\n",
       "  <tbody>\n",
       "    <tr>\n",
       "      <th>HYBE LABELS</th>\n",
       "      <td>3880511</td>\n",
       "    </tr>\n",
       "    <tr>\n",
       "      <th>BLACKPINK</th>\n",
       "      <td>3347440</td>\n",
       "    </tr>\n",
       "    <tr>\n",
       "      <th>Alan Chikin Chow</th>\n",
       "      <td>3021181</td>\n",
       "    </tr>\n",
       "    <tr>\n",
       "      <th>Dan Rhodes</th>\n",
       "      <td>2714853</td>\n",
       "    </tr>\n",
       "    <tr>\n",
       "      <th>Netflix</th>\n",
       "      <td>2579371</td>\n",
       "    </tr>\n",
       "  </tbody>\n",
       "</table>\n",
       "</div>"
      ],
      "text/plain": [
       "                  dislikes\n",
       "channel_title             \n",
       "HYBE LABELS        3880511\n",
       "BLACKPINK          3347440\n",
       "Alan Chikin Chow   3021181\n",
       "Dan Rhodes         2714853\n",
       "Netflix            2579371"
      ]
     },
     "execution_count": 70,
     "metadata": {},
     "output_type": "execute_result"
    }
   ],
   "source": [
    "df.groupby(\"channel_title\")[\"dislikes\"].sum().to_frame().sort_values(by=\"dislikes\",ascending=False).head(5)"
   ]
  },
  {
   "cell_type": "markdown",
   "id": "4c14b34e",
   "metadata": {},
   "source": [
    "### Top 5 channels which uploaded the most number of Videos"
   ]
  },
  {
   "cell_type": "code",
   "execution_count": 71,
   "id": "668292be",
   "metadata": {
    "scrolled": true
   },
   "outputs": [
    {
     "data": {
      "text/html": [
       "<div>\n",
       "<style scoped>\n",
       "    .dataframe tbody tr th:only-of-type {\n",
       "        vertical-align: middle;\n",
       "    }\n",
       "\n",
       "    .dataframe tbody tr th {\n",
       "        vertical-align: top;\n",
       "    }\n",
       "\n",
       "    .dataframe thead th {\n",
       "        text-align: right;\n",
       "    }\n",
       "</style>\n",
       "<table border=\"1\" class=\"dataframe\">\n",
       "  <thead>\n",
       "    <tr style=\"text-align: right;\">\n",
       "      <th></th>\n",
       "      <th>No. of Videos Uploaded</th>\n",
       "    </tr>\n",
       "    <tr>\n",
       "      <th>channel_title</th>\n",
       "      <th></th>\n",
       "    </tr>\n",
       "  </thead>\n",
       "  <tbody>\n",
       "    <tr>\n",
       "      <th>Sky Sports Football</th>\n",
       "      <td>533</td>\n",
       "    </tr>\n",
       "    <tr>\n",
       "      <th>The United Stand</th>\n",
       "      <td>301</td>\n",
       "    </tr>\n",
       "    <tr>\n",
       "      <th>BT Sport</th>\n",
       "      <td>246</td>\n",
       "    </tr>\n",
       "    <tr>\n",
       "      <th>NBA</th>\n",
       "      <td>209</td>\n",
       "    </tr>\n",
       "    <tr>\n",
       "      <th>NFL</th>\n",
       "      <td>162</td>\n",
       "    </tr>\n",
       "  </tbody>\n",
       "</table>\n",
       "</div>"
      ],
      "text/plain": [
       "                     No. of Videos Uploaded\n",
       "channel_title                              \n",
       "Sky Sports Football                     533\n",
       "The United Stand                        301\n",
       "BT Sport                                246\n",
       "NBA                                     209\n",
       "NFL                                     162"
      ]
     },
     "execution_count": 71,
     "metadata": {},
     "output_type": "execute_result"
    }
   ],
   "source": [
    "df.groupby(\"channel_title\")[\"video_id\"].count().to_frame().rename(columns={\"video_id\":\"No. of Videos Uploaded\"}).sort_values(by = \"No. of Videos Uploaded\",ascending=False).head(5)"
   ]
  },
  {
   "cell_type": "markdown",
   "id": "93d2d32f",
   "metadata": {},
   "source": [
    "### Top 5 Channels with Highest average View Count"
   ]
  },
  {
   "cell_type": "code",
   "execution_count": 72,
   "id": "90f16b41",
   "metadata": {},
   "outputs": [
    {
     "data": {
      "text/html": [
       "<div>\n",
       "<style scoped>\n",
       "    .dataframe tbody tr th:only-of-type {\n",
       "        vertical-align: middle;\n",
       "    }\n",
       "\n",
       "    .dataframe tbody tr th {\n",
       "        vertical-align: top;\n",
       "    }\n",
       "\n",
       "    .dataframe thead th {\n",
       "        text-align: right;\n",
       "    }\n",
       "</style>\n",
       "<table border=\"1\" class=\"dataframe\">\n",
       "  <thead>\n",
       "    <tr style=\"text-align: right;\">\n",
       "      <th></th>\n",
       "      <th>view_count</th>\n",
       "    </tr>\n",
       "    <tr>\n",
       "      <th>channel_title</th>\n",
       "      <th></th>\n",
       "    </tr>\n",
       "  </thead>\n",
       "  <tbody>\n",
       "    <tr>\n",
       "      <th>Desi Records</th>\n",
       "      <td>449165634.00</td>\n",
       "    </tr>\n",
       "    <tr>\n",
       "      <th>Lele Pons</th>\n",
       "      <td>375514253.00</td>\n",
       "    </tr>\n",
       "    <tr>\n",
       "      <th>KarolGVEVO</th>\n",
       "      <td>305375414.00</td>\n",
       "    </tr>\n",
       "    <tr>\n",
       "      <th>5-Minute Crafts FAMILY</th>\n",
       "      <td>269829861.00</td>\n",
       "    </tr>\n",
       "    <tr>\n",
       "      <th>Bad Bunny</th>\n",
       "      <td>244803051.60</td>\n",
       "    </tr>\n",
       "  </tbody>\n",
       "</table>\n",
       "</div>"
      ],
      "text/plain": [
       "                         view_count\n",
       "channel_title                      \n",
       "Desi Records           449165634.00\n",
       "Lele Pons              375514253.00\n",
       "KarolGVEVO             305375414.00\n",
       "5-Minute Crafts FAMILY 269829861.00\n",
       "Bad Bunny              244803051.60"
      ]
     },
     "execution_count": 72,
     "metadata": {},
     "output_type": "execute_result"
    }
   ],
   "source": [
    "df.groupby(\"channel_title\")[\"view_count\"].mean().to_frame().sort_values(by=\"view_count\",ascending=False).head(5)"
   ]
  },
  {
   "cell_type": "markdown",
   "id": "9f788d1f",
   "metadata": {},
   "source": [
    "### Most viewed Channel by Month"
   ]
  },
  {
   "cell_type": "code",
   "execution_count": 91,
   "id": "4134f048",
   "metadata": {},
   "outputs": [
    {
     "data": {
      "text/html": [
       "<div>\n",
       "<style scoped>\n",
       "    .dataframe tbody tr th:only-of-type {\n",
       "        vertical-align: middle;\n",
       "    }\n",
       "\n",
       "    .dataframe tbody tr th {\n",
       "        vertical-align: top;\n",
       "    }\n",
       "\n",
       "    .dataframe thead th {\n",
       "        text-align: right;\n",
       "    }\n",
       "</style>\n",
       "<table border=\"1\" class=\"dataframe\">\n",
       "  <thead>\n",
       "    <tr style=\"text-align: right;\">\n",
       "      <th></th>\n",
       "      <th>published_month</th>\n",
       "      <th>channel_title</th>\n",
       "      <th>view_count</th>\n",
       "    </tr>\n",
       "  </thead>\n",
       "  <tbody>\n",
       "    <tr>\n",
       "      <th>9178</th>\n",
       "      <td>Jan</td>\n",
       "      <td>TheWeekndVEVO</td>\n",
       "      <td>620327393</td>\n",
       "    </tr>\n",
       "    <tr>\n",
       "      <th>11919</th>\n",
       "      <td>Feb</td>\n",
       "      <td>Bad Bunny</td>\n",
       "      <td>434983034</td>\n",
       "    </tr>\n",
       "    <tr>\n",
       "      <th>26426</th>\n",
       "      <td>Mar</td>\n",
       "      <td>KarolGVEVO</td>\n",
       "      <td>562716952</td>\n",
       "    </tr>\n",
       "    <tr>\n",
       "      <th>34737</th>\n",
       "      <td>Apr</td>\n",
       "      <td>Dan Rhodes</td>\n",
       "      <td>812143661</td>\n",
       "    </tr>\n",
       "    <tr>\n",
       "      <th>47029</th>\n",
       "      <td>May</td>\n",
       "      <td>HYBE LABELS</td>\n",
       "      <td>859336681</td>\n",
       "    </tr>\n",
       "    <tr>\n",
       "      <th>63465</th>\n",
       "      <td>June</td>\n",
       "      <td>Tsuriki Show</td>\n",
       "      <td>498746372</td>\n",
       "    </tr>\n",
       "    <tr>\n",
       "      <th>67881</th>\n",
       "      <td>July</td>\n",
       "      <td>FFUNTV</td>\n",
       "      <td>456246806</td>\n",
       "    </tr>\n",
       "    <tr>\n",
       "      <th>79468</th>\n",
       "      <td>Aug</td>\n",
       "      <td>HYBE LABELS</td>\n",
       "      <td>1704687787</td>\n",
       "    </tr>\n",
       "    <tr>\n",
       "      <th>87565</th>\n",
       "      <td>Sept</td>\n",
       "      <td>BLACKPINK</td>\n",
       "      <td>920514456</td>\n",
       "    </tr>\n",
       "    <tr>\n",
       "      <th>99782</th>\n",
       "      <td>Oct</td>\n",
       "      <td>Desi Records</td>\n",
       "      <td>1269596718</td>\n",
       "    </tr>\n",
       "    <tr>\n",
       "      <th>115909</th>\n",
       "      <td>Nov</td>\n",
       "      <td>SMTOWN</td>\n",
       "      <td>504998621</td>\n",
       "    </tr>\n",
       "    <tr>\n",
       "      <th>120269</th>\n",
       "      <td>Dec</td>\n",
       "      <td>BlackEyedPeasVEVO</td>\n",
       "      <td>519237561</td>\n",
       "    </tr>\n",
       "  </tbody>\n",
       "</table>\n",
       "</div>"
      ],
      "text/plain": [
       "       published_month      channel_title  view_count\n",
       "9178               Jan      TheWeekndVEVO   620327393\n",
       "11919              Feb          Bad Bunny   434983034\n",
       "26426              Mar         KarolGVEVO   562716952\n",
       "34737              Apr         Dan Rhodes   812143661\n",
       "47029              May        HYBE LABELS   859336681\n",
       "63465             June       Tsuriki Show   498746372\n",
       "67881             July             FFUNTV   456246806\n",
       "79468              Aug        HYBE LABELS  1704687787\n",
       "87565             Sept          BLACKPINK   920514456\n",
       "99782              Oct       Desi Records  1269596718\n",
       "115909             Nov             SMTOWN   504998621\n",
       "120269             Dec  BlackEyedPeasVEVO   519237561"
      ]
     },
     "execution_count": 91,
     "metadata": {},
     "output_type": "execute_result"
    }
   ],
   "source": [
    "# Group by month and channel, and sum the view counts\n",
    "most_viewed_channel = df.groupby([\"published_month\",\"channel_title\"])[\"view_count\"].sum().reset_index()\n",
    "\n",
    "# Finding the most viewed channel for each month\n",
    "most_viewed_channel_by_month = most_viewed_channel.loc[most_viewed_channel.groupby(\"published_month\")[\"view_count\"].idxmax()]\n",
    "\n",
    "month = [\"Jan\",\"Feb\",\"Mar\",\"Apr\",\"May\",\"June\",\"July\",\"Aug\",\"Sept\",\"Oct\",\"Nov\",\"Dec\"]\n",
    "\n",
    "# Sorting the result by month for better readability\n",
    "most_viewed_channel_by_month[\"published_month\"] = pd.Categorical(most_viewed_channel_by_month[\"published_month\"],categories=month,ordered=True)\n",
    "\n",
    "most_viewed_channel_by_month.sort_values(by=\"published_month\") #result"
   ]
  },
  {
   "cell_type": "markdown",
   "id": "62f07373",
   "metadata": {},
   "source": [
    "## What factors contribute to the popularity of YouTube videos?"
   ]
  },
  {
   "cell_type": "markdown",
   "id": "5f4f435c",
   "metadata": {},
   "source": [
    "### How do the number of likes, dislikes, and comments correlate with view counts?"
   ]
  },
  {
   "cell_type": "code",
   "execution_count": 78,
   "id": "1139f045",
   "metadata": {
    "scrolled": true
   },
   "outputs": [
    {
     "data": {
      "text/html": [
       "<div>\n",
       "<style scoped>\n",
       "    .dataframe tbody tr th:only-of-type {\n",
       "        vertical-align: middle;\n",
       "    }\n",
       "\n",
       "    .dataframe tbody tr th {\n",
       "        vertical-align: top;\n",
       "    }\n",
       "\n",
       "    .dataframe thead th {\n",
       "        text-align: right;\n",
       "    }\n",
       "</style>\n",
       "<table border=\"1\" class=\"dataframe\">\n",
       "  <thead>\n",
       "    <tr style=\"text-align: right;\">\n",
       "      <th></th>\n",
       "      <th>view_count</th>\n",
       "      <th>likes</th>\n",
       "      <th>dislikes</th>\n",
       "      <th>comment_count</th>\n",
       "    </tr>\n",
       "  </thead>\n",
       "  <tbody>\n",
       "    <tr>\n",
       "      <th>view_count</th>\n",
       "      <td>1.00</td>\n",
       "      <td>0.78</td>\n",
       "      <td>0.68</td>\n",
       "      <td>0.46</td>\n",
       "    </tr>\n",
       "    <tr>\n",
       "      <th>likes</th>\n",
       "      <td>0.78</td>\n",
       "      <td>1.00</td>\n",
       "      <td>0.68</td>\n",
       "      <td>0.58</td>\n",
       "    </tr>\n",
       "    <tr>\n",
       "      <th>dislikes</th>\n",
       "      <td>0.68</td>\n",
       "      <td>0.68</td>\n",
       "      <td>1.00</td>\n",
       "      <td>0.39</td>\n",
       "    </tr>\n",
       "    <tr>\n",
       "      <th>comment_count</th>\n",
       "      <td>0.46</td>\n",
       "      <td>0.58</td>\n",
       "      <td>0.39</td>\n",
       "      <td>1.00</td>\n",
       "    </tr>\n",
       "  </tbody>\n",
       "</table>\n",
       "</div>"
      ],
      "text/plain": [
       "               view_count  likes  dislikes  comment_count\n",
       "view_count           1.00   0.78      0.68           0.46\n",
       "likes                0.78   1.00      0.68           0.58\n",
       "dislikes             0.68   0.68      1.00           0.39\n",
       "comment_count        0.46   0.58      0.39           1.00"
      ]
     },
     "execution_count": 78,
     "metadata": {},
     "output_type": "execute_result"
    }
   ],
   "source": [
    "# Finding the correlation\n",
    "df[[\"view_count\",\"likes\",\"dislikes\",\"comment_count\"]].corr()"
   ]
  },
  {
   "cell_type": "code",
   "execution_count": 79,
   "id": "b6e5d18b",
   "metadata": {
    "scrolled": false
   },
   "outputs": [
    {
     "data": {
      "image/png": "[encoded data removed]",
      "text/plain": [
       "<Figure size 640x480 with 1 Axes>"
      ]
     },
     "metadata": {},
     "output_type": "display_data"
    },
    {
     "data": {
      "image/png": "[encoded data removed]",
      "text/plain": [
       "<Figure size 640x480 with 1 Axes>"
      ]
     },
     "metadata": {},
     "output_type": "display_data"
    },
    {
     "data": {
      "image/png": "[encoded data removed]",
      "text/plain": [
       "<Figure size 640x480 with 1 Axes>"
      ]
     },
     "metadata": {},
     "output_type": "display_data"
    }
   ],
   "source": [
    "# Scatter plot for views vs likes\n",
    "sns.scatterplot(x='view_count', y='likes', data=df)\n",
    "plt.title('Views vs Likes')\n",
    "plt.show()\n",
    "\n",
    "# Scatter plot for views vs dislikes\n",
    "sns.scatterplot(x='view_count', y='dislikes', data=df)\n",
    "plt.title('Views vs Dislikes')\n",
    "plt.show()\n",
    "\n",
    "# Scatter plot for views vs comments\n",
    "sns.scatterplot(x='view_count', y='comment_count', data=df)\n",
    "plt.title('Views vs Comments')\n",
    "plt.show()"
   ]
  },
  {
   "cell_type": "markdown",
   "id": "e3e05d53",
   "metadata": {},
   "source": [
    "### Observation:\n",
    "* **Strong Positive Correlation (0.784199) between view counts and likes.**\n",
    "* **View Count and Dislikes (0.684576) between view counts and dislikes.**\n",
    "* **View Count and Comment Count (0.464442) between view counts and comment counts.**\n",
    "\n",
    "Likes have the strongest correlation with view counts, indicating that they are the most directly related engagement metric. Dislikes also increase with views, but to a lesser extent. Comments have the weakest correlation with views among the three metrics, suggesting that while popular videos tend to have more comments, other factors could play a role in generating comments."
   ]
  },
  {
   "cell_type": "markdown",
   "id": "d3672d49",
   "metadata": {},
   "source": [
    "### What is the impact of the publishing month on view counts?"
   ]
  },
  {
   "cell_type": "code",
   "execution_count": 92,
   "id": "2c7e211a",
   "metadata": {
    "scrolled": false
   },
   "outputs": [
    {
     "data": {
      "text/html": [
       "<div>\n",
       "<style scoped>\n",
       "    .dataframe tbody tr th:only-of-type {\n",
       "        vertical-align: middle;\n",
       "    }\n",
       "\n",
       "    .dataframe tbody tr th {\n",
       "        vertical-align: top;\n",
       "    }\n",
       "\n",
       "    .dataframe thead th {\n",
       "        text-align: right;\n",
       "    }\n",
       "</style>\n",
       "<table border=\"1\" class=\"dataframe\">\n",
       "  <thead>\n",
       "    <tr style=\"text-align: right;\">\n",
       "      <th></th>\n",
       "      <th>published_month</th>\n",
       "      <th>view_count</th>\n",
       "    </tr>\n",
       "  </thead>\n",
       "  <tbody>\n",
       "    <tr>\n",
       "      <th>0</th>\n",
       "      <td>Jan</td>\n",
       "      <td>4994213.37</td>\n",
       "    </tr>\n",
       "    <tr>\n",
       "      <th>1</th>\n",
       "      <td>Feb</td>\n",
       "      <td>4668040.62</td>\n",
       "    </tr>\n",
       "    <tr>\n",
       "      <th>2</th>\n",
       "      <td>Mar</td>\n",
       "      <td>7063469.44</td>\n",
       "    </tr>\n",
       "    <tr>\n",
       "      <th>3</th>\n",
       "      <td>Apr</td>\n",
       "      <td>7085843.10</td>\n",
       "    </tr>\n",
       "    <tr>\n",
       "      <th>4</th>\n",
       "      <td>May</td>\n",
       "      <td>7746752.95</td>\n",
       "    </tr>\n",
       "    <tr>\n",
       "      <th>5</th>\n",
       "      <td>June</td>\n",
       "      <td>6569790.07</td>\n",
       "    </tr>\n",
       "    <tr>\n",
       "      <th>6</th>\n",
       "      <td>July</td>\n",
       "      <td>5958170.05</td>\n",
       "    </tr>\n",
       "    <tr>\n",
       "      <th>7</th>\n",
       "      <td>Aug</td>\n",
       "      <td>5945503.68</td>\n",
       "    </tr>\n",
       "    <tr>\n",
       "      <th>8</th>\n",
       "      <td>Sept</td>\n",
       "      <td>5180436.34</td>\n",
       "    </tr>\n",
       "    <tr>\n",
       "      <th>9</th>\n",
       "      <td>Oct</td>\n",
       "      <td>6207969.69</td>\n",
       "    </tr>\n",
       "    <tr>\n",
       "      <th>10</th>\n",
       "      <td>Nov</td>\n",
       "      <td>4271565.15</td>\n",
       "    </tr>\n",
       "    <tr>\n",
       "      <th>11</th>\n",
       "      <td>Dec</td>\n",
       "      <td>4741380.58</td>\n",
       "    </tr>\n",
       "  </tbody>\n",
       "</table>\n",
       "</div>"
      ],
      "text/plain": [
       "   published_month  view_count\n",
       "0              Jan  4994213.37\n",
       "1              Feb  4668040.62\n",
       "2              Mar  7063469.44\n",
       "3              Apr  7085843.10\n",
       "4              May  7746752.95\n",
       "5             June  6569790.07\n",
       "6             July  5958170.05\n",
       "7              Aug  5945503.68\n",
       "8             Sept  5180436.34\n",
       "9              Oct  6207969.69\n",
       "10             Nov  4271565.15\n",
       "11             Dec  4741380.58"
      ]
     },
     "execution_count": 92,
     "metadata": {},
     "output_type": "execute_result"
    }
   ],
   "source": [
    "# Grouping published month with view count\n",
    "pmvc = df.groupby(\"published_month\")[\"view_count\"].mean().reset_index().sort_values(by=\"view_count\",ascending=False)\n",
    "\n",
    "month_order = ['Jan', 'Feb', 'Mar', 'Apr', 'May', 'June', 'July', 'Aug', 'Sept', 'Oct', 'Nov', 'Dec']\n",
    "\n",
    "# Ordering the published month variables\n",
    "pmvc[\"published_month\"] = pd.Categorical(pmvc[\"published_month\"], categories=month_order, ordered=True)\n",
    "\n",
    "# Sorting the result\n",
    "pmvc = pmvc.sort_values(by=\"published_month\")\n",
    "\n",
    "pmvc"
   ]
  },
  {
   "cell_type": "code",
   "execution_count": 85,
   "id": "903cc9f5",
   "metadata": {},
   "outputs": [
    {
     "data": {
      "image/png": "[encoded data removed]",
      "text/plain": [
       "<Figure size 1200x600 with 1 Axes>"
      ]
     },
     "metadata": {},
     "output_type": "display_data"
    }
   ],
   "source": [
    "# Creating the line plot\n",
    "plt.figure(figsize=(12, 6))\n",
    "sns.lineplot(x='published_month', y='view_count', data=pmvc, marker='o')\n",
    "\n",
    "# Customizing the plot\n",
    "plt.title('Impact of Publishing Month on View Counts', fontsize=16)\n",
    "plt.xlabel('published_month', fontsize=14)\n",
    "plt.ylabel('Average View Count', fontsize=14)\n",
    "plt.xticks(rotation=45)\n",
    "plt.grid(True)\n",
    "\n",
    "# Showing the plot\n",
    "plt.show()"
   ]
  },
  {
   "cell_type": "markdown",
   "id": "abb5bc61",
   "metadata": {},
   "source": [
    "### Observation:\n",
    "* **Highest Average Views in May:** Videos published in May have the highest average view count, at approximately 7.75 million.\n",
    "\n",
    "* **Summer Months Performance:** The spring months (March, April, and May) show high average view counts, suggesting that this period might be particularly favorable for video viewership.\n",
    "\n",
    "* **Lowest Average Views in Winter:** November has the lowest average view count, at approximately 4.27 million. This might indicate lower viewer engagement or availability during this month, possibly due to holiday preparations and other activities.\n",
    "\n",
    "* **Conclusion:** The publishing month significantly impacts view counts, with a clear trend of higher viewership in the spring and early summer months and lower viewership in the late summer, autumn, and winter months. This information can be valuable for content creators to strategize their publishing schedules to maximize viewership."
   ]
  },
  {
   "cell_type": "markdown",
   "id": "12f6f7b6",
   "metadata": {},
   "source": [
    "### Which tags are most commonly associated with high-view videos?"
   ]
  },
  {
   "cell_type": "code",
   "execution_count": 86,
   "id": "468eff5e",
   "metadata": {
    "scrolled": false
   },
   "outputs": [
    {
     "data": {
      "text/html": [
       "<div>\n",
       "<style scoped>\n",
       "    .dataframe tbody tr th:only-of-type {\n",
       "        vertical-align: middle;\n",
       "    }\n",
       "\n",
       "    .dataframe tbody tr th {\n",
       "        vertical-align: top;\n",
       "    }\n",
       "\n",
       "    .dataframe thead th {\n",
       "        text-align: right;\n",
       "    }\n",
       "</style>\n",
       "<table border=\"1\" class=\"dataframe\">\n",
       "  <thead>\n",
       "    <tr style=\"text-align: right;\">\n",
       "      <th></th>\n",
       "      <th>index</th>\n",
       "      <th>Tag</th>\n",
       "      <th>Frequency</th>\n",
       "    </tr>\n",
       "  </thead>\n",
       "  <tbody>\n",
       "    <tr>\n",
       "      <th>0</th>\n",
       "      <td>176</td>\n",
       "      <td>the</td>\n",
       "      <td>5251</td>\n",
       "    </tr>\n",
       "    <tr>\n",
       "      <th>1</th>\n",
       "      <td>835</td>\n",
       "      <td>minecraft</td>\n",
       "      <td>5080</td>\n",
       "    </tr>\n",
       "    <tr>\n",
       "      <th>2</th>\n",
       "      <td>29</td>\n",
       "      <td>new</td>\n",
       "      <td>4301</td>\n",
       "    </tr>\n",
       "    <tr>\n",
       "      <th>3</th>\n",
       "      <td>268</td>\n",
       "      <td>video</td>\n",
       "      <td>3855</td>\n",
       "    </tr>\n",
       "    <tr>\n",
       "      <th>4</th>\n",
       "      <td>249</td>\n",
       "      <td>highlights</td>\n",
       "      <td>3210</td>\n",
       "    </tr>\n",
       "    <tr>\n",
       "      <th>5</th>\n",
       "      <td>773</td>\n",
       "      <td>funny</td>\n",
       "      <td>3178</td>\n",
       "    </tr>\n",
       "    <tr>\n",
       "      <th>6</th>\n",
       "      <td>136</td>\n",
       "      <td>2021</td>\n",
       "      <td>3112</td>\n",
       "    </tr>\n",
       "    <tr>\n",
       "      <th>7</th>\n",
       "      <td>370</td>\n",
       "      <td>to</td>\n",
       "      <td>2682</td>\n",
       "    </tr>\n",
       "    <tr>\n",
       "      <th>8</th>\n",
       "      <td>312</td>\n",
       "      <td>vs</td>\n",
       "      <td>2596</td>\n",
       "    </tr>\n",
       "    <tr>\n",
       "      <th>9</th>\n",
       "      <td>569</td>\n",
       "      <td>and</td>\n",
       "      <td>2578</td>\n",
       "    </tr>\n",
       "  </tbody>\n",
       "</table>\n",
       "</div>"
      ],
      "text/plain": [
       "   index         Tag  Frequency\n",
       "0    176         the       5251\n",
       "1    835   minecraft       5080\n",
       "2     29         new       4301\n",
       "3    268       video       3855\n",
       "4    249  highlights       3210\n",
       "5    773       funny       3178\n",
       "6    136        2021       3112\n",
       "7    370          to       2682\n",
       "8    312          vs       2596\n",
       "9    569         and       2578"
      ]
     },
     "execution_count": 86,
     "metadata": {},
     "output_type": "execute_result"
    }
   ],
   "source": [
    "from collections import Counter\n",
    "import itertools\n",
    "\n",
    "# Defining high-view threshold\n",
    "high_view_threshold = 1000000\n",
    "\n",
    "# Filtering high-view videos\n",
    "high_view_videos = df[df['view_count'] > high_view_threshold]\n",
    "\n",
    "# Splitting tags into individual words\n",
    "tags_list = high_view_videos['tags'].str.split()\n",
    "\n",
    "# Flattening the list of lists and count frequency of each tag\n",
    "all_tags = list(itertools.chain(*tags_list))\n",
    "tag_counts = Counter(all_tags)\n",
    "\n",
    "# Creating a DataFrame for tag frequencies\n",
    "tag_freq_df = pd.DataFrame(tag_counts.items(), columns=['Tag', 'Frequency'])\n",
    "\n",
    "# Sorting by frequency in descending order\n",
    "tag_freq_df = tag_freq_df.sort_values(by='Frequency', ascending=False)\n",
    "\n",
    "# Display the initial DataFrame\n",
    "#print(\"Initial DataFrame:\\n\", df)\n",
    "\n",
    "# Display the tag frequency DataFrame\n",
    "tag_freq_df.reset_index().head(10)"
   ]
  },
  {
   "cell_type": "markdown",
   "id": "d4ae7377",
   "metadata": {},
   "source": [
    "### Does the number of views have any effect on how many people disliked the video? Support your answer with a metric and a plot."
   ]
  },
  {
   "cell_type": "code",
   "execution_count": 87,
   "id": "6f1cf76d",
   "metadata": {},
   "outputs": [
    {
     "name": "stdout",
     "output_type": "stream",
     "text": [
      "The correlation between the variables view count and no. of dislikes: 0.68\n"
     ]
    }
   ],
   "source": [
    "#assigning variable correlation to the correlation of views and dislikes\n",
    "correlation = df['view_count'].corr(df['dislikes'])\n",
    "#rounding to 2 decimals\n",
    "print(\"The correlation between the variables view count and no. of dislikes:\",round(correlation,2))"
   ]
  },
  {
   "cell_type": "markdown",
   "id": "a8329dd5",
   "metadata": {},
   "source": [
    "**We can clearly see a meaningful positive correlation between view_count and dislikes variables(0.68).This means that as the number of views increases,the dislikes a video gets also increases positively.**"
   ]
  },
  {
   "cell_type": "code",
   "execution_count": 88,
   "id": "8f91fb0d",
   "metadata": {},
   "outputs": [
    {
     "data": {
      "image/png": "[encoded data removed]",
      "text/plain": [
       "<Figure size 640x480 with 1 Axes>"
      ]
     },
     "metadata": {},
     "output_type": "display_data"
    }
   ],
   "source": [
    "#Scatterplot between variables views and dislikes\n",
    "views = df['view_count']\n",
    "dis_likes = df['dislikes']\n",
    "plt.xlabel(\"views_in_billion\")\n",
    "plt.ylabel(\"dislikes_in_billion\")\n",
    "plt.scatter(x = views, y = dis_likes);\n",
    "plt.show()"
   ]
  },
  {
   "cell_type": "markdown",
   "id": "a6bf29f1",
   "metadata": {},
   "source": [
    "### Is their a relation between number of Comments a video gets and the number of dislikes?"
   ]
  },
  {
   "cell_type": "code",
   "execution_count": 89,
   "id": "93f11728",
   "metadata": {},
   "outputs": [
    {
     "data": {
      "text/plain": [
       "0.39"
      ]
     },
     "execution_count": 89,
     "metadata": {},
     "output_type": "execute_result"
    }
   ],
   "source": [
    "# Correlation between comment_count and dislikes\n",
    "round(df[\"comment_count\"].corr(df[\"dislikes\"]),2)"
   ]
  },
  {
   "cell_type": "code",
   "execution_count": 90,
   "id": "63f782ce",
   "metadata": {
    "scrolled": false
   },
   "outputs": [
    {
     "data": {
      "image/png": "[encoded data removed]",
      "text/plain": [
       "<Figure size 640x480 with 1 Axes>"
      ]
     },
     "metadata": {},
     "output_type": "display_data"
    }
   ],
   "source": [
    "# Scatter plot for Comment Count vs Dislikes\n",
    "sns.scatterplot(x=\"dislikes\",y=\"comment_count\",data=df)\n",
    "plt.title('Scatter Plot of Comment Count vs Dislikes')\n",
    "plt.xlabel('Comment Count')\n",
    "plt.ylabel('Dislikes')\n",
    "plt.show()"
   ]
  },
  {
   "cell_type": "markdown",
   "id": "23c45be7",
   "metadata": {},
   "source": [
    "### Observation:\n",
    "* **The correlation coefficient of 0.39 between comment_count and dislikes indicates a moderate positive correlation.**\n",
    "* **Videos with more comments tend to have more dislikes, but the relationship is not very strong.**"
   ]
  }
 ],
 "metadata": {
  "kernelspec": {
   "display_name": "Python 3 (ipykernel)",
   "language": "python",
   "name": "python3"
  },
  "language_info": {
   "codemirror_mode": {
    "name": "ipython",
    "version": 3
   },
   "file_extension": ".py",
   "mimetype": "text/x-python",
   "name": "python",
   "nbconvert_exporter": "python",
   "pygments_lexer": "ipython3",
   "version": "3.9.13"
  }
 },
 "nbformat": 4,
 "nbformat_minor": 5
}
